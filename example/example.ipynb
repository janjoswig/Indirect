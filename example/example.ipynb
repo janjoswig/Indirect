{
 "cells": [
  {
   "cell_type": "markdown",
   "metadata": {},
   "source": [
    "```\n",
    "example/\n",
    "├── system_with_complicated_and_explicit_name/\n",
    "│   ├── exp_11102020/\n",
    "│   │   └── replica_1/\n",
    "│   │       └── data.dat\n",
    "│   └── exp_11102020/\n",
    "│       └── replica_2/\n",
    "│           └── data.dat\n",
    "├── system_two_with_an_even_more_complicated_name/\n",
    "│   ├── rep1\n",
    "│   │   └── exp.dat\n",
    "│   ├── rep2\n",
    "│   │   └── exp.dat\n",
    "│   └── rep3\n",
    "│       └── exp.dat\n",
    "├── example.ipynb\n",
    "└── info\n",
    "```"
   ]
  },
  {
   "cell_type": "code",
   "execution_count": 1,
   "metadata": {
    "ExecuteTime": {
     "end_time": "2021-03-02T15:57:41.509225Z",
     "start_time": "2021-03-02T15:57:41.504503Z"
    }
   },
   "outputs": [],
   "source": [
    "from indirect import indirect\n",
    "from indirect import cookbook"
   ]
  },
  {
   "cell_type": "code",
   "execution_count": 36,
   "metadata": {
    "ExecuteTime": {
     "end_time": "2021-03-02T16:47:05.728981Z",
     "start_time": "2021-03-02T16:47:05.727026Z"
    }
   },
   "outputs": [],
   "source": [
    "# Initialise a project\n",
    "project = indirect.Project(\"example\")"
   ]
  },
  {
   "cell_type": "code",
   "execution_count": 37,
   "metadata": {
    "ExecuteTime": {
     "end_time": "2021-03-02T16:47:06.156923Z",
     "start_time": "2021-03-02T16:47:06.154777Z"
    }
   },
   "outputs": [],
   "source": [
    "project.add_abstraction(\n",
    "...    \"a\", path=\"system_with_complicated_and_explicit_name\"\n",
    "...    )\n",
    "\n",
    "project.add_abstraction(\n",
    "...    \"b\", path=\"system_two_with_an_even_more_complicated_name\"\n",
    "...    )"
   ]
  },
  {
   "cell_type": "code",
   "execution_count": 68,
   "metadata": {
    "ExecuteTime": {
     "end_time": "2021-03-02T17:15:22.476375Z",
     "start_time": "2021-03-02T17:15:22.473549Z"
    }
   },
   "outputs": [
    {
     "data": {
      "text/plain": [
       "PosixPath('system_two_with_an_even_more_complicated_name')"
      ]
     },
     "execution_count": 68,
     "metadata": {},
     "output_type": "execute_result"
    }
   ],
   "source": [
    "project[\"b\"].fullpath"
   ]
  },
  {
   "cell_type": "code",
   "execution_count": 69,
   "metadata": {
    "ExecuteTime": {
     "end_time": "2021-03-02T17:15:42.755637Z",
     "start_time": "2021-03-02T17:15:42.749585Z"
    }
   },
   "outputs": [],
   "source": [
    "path = project[\"a\"].fullpath\n",
    "\n",
    "exp_dirs = cookbook.get_dirs(path=path, regex=\"^exp\")\n",
    "for directory in exp_dirs:\n",
    "    rep_dirs = cookbook.get_dirs(path=path / directory, regex=\"^replica\")\n",
    "    for number, sub_directory in enumerate(rep_dirs, 1):\n",
    "        project.add_abstraction(\n",
    "            f\"{number}\", path=f\"{directory}/{sub_directory}\", view=[\"a\"]\n",
    "            )\n",
    "        \n",
    "path = project[\"b\"].fullpath\n",
    "rep_dirs = cookbook.get_dirs(path=path, regex=\"^rep\")\n",
    "for number, directory in enumerate(rep_dirs, 1):\n",
    "    project.add_abstraction(\n",
    "        f\"{number}\", path=f\"{directory}\", view=[\"b\"]\n",
    "        )"
   ]
  },
  {
   "cell_type": "code",
   "execution_count": 70,
   "metadata": {
    "ExecuteTime": {
     "end_time": "2021-03-02T17:15:44.181656Z",
     "start_time": "2021-03-02T17:15:44.178510Z"
    }
   },
   "outputs": [
    {
     "data": {
      "text/plain": [
       "{'a': {'path': PosixPath('system_with_complicated_and_explicit_name'),\n",
       "  'next': {'1': {'path': PosixPath('exp_12102020/replica_1')},\n",
       "   '2': {'path': PosixPath('exp_11102020/replica_2')}}}}"
      ]
     },
     "execution_count": 70,
     "metadata": {},
     "output_type": "execute_result"
    }
   ],
   "source": [
    "project[\"a\"].to_dict()"
   ]
  },
  {
   "cell_type": "code",
   "execution_count": 71,
   "metadata": {
    "ExecuteTime": {
     "end_time": "2021-03-02T17:15:45.969466Z",
     "start_time": "2021-03-02T17:15:45.966893Z"
    }
   },
   "outputs": [],
   "source": [
    "for system in [\"a\", \"b\"]:\n",
    "    project.views[system] = indirect.View([\n",
    "        f\"{system}.{rid}\"\n",
    "        for rid in project[system].next.keys()\n",
    "        ])"
   ]
  },
  {
   "cell_type": "code",
   "execution_count": 72,
   "metadata": {
    "ExecuteTime": {
     "end_time": "2021-03-02T17:15:46.314308Z",
     "start_time": "2021-03-02T17:15:46.311995Z"
    }
   },
   "outputs": [],
   "source": [
    "for system, report_file in [(\"a\", \"data.dat\"), (\"b\", \"exp.dat\")]:\n",
    "    project.add_content(\n",
    "        \"report\",\n",
    "        filename=report_file,\n",
    "        desc=\"data to analyse\",\n",
    "        view=system\n",
    "        )"
   ]
  },
  {
   "cell_type": "code",
   "execution_count": 73,
   "metadata": {
    "ExecuteTime": {
     "end_time": "2021-03-02T17:15:46.710903Z",
     "start_time": "2021-03-02T17:15:46.708256Z"
    }
   },
   "outputs": [
    {
     "data": {
      "text/plain": [
       "PosixPath('system_two_with_an_even_more_complicated_name/rep2/exp.dat')"
      ]
     },
     "execution_count": 73,
     "metadata": {},
     "output_type": "execute_result"
    }
   ],
   "source": [
    "project[\"b.2.report\"].fullpath"
   ]
  },
  {
   "cell_type": "code",
   "execution_count": 66,
   "metadata": {
    "ExecuteTime": {
     "end_time": "2021-03-02T17:14:51.821128Z",
     "start_time": "2021-03-02T17:14:51.288730Z"
    }
   },
   "outputs": [
    {
     "name": "stdout",
     "output_type": "stream",
     "text": [
      "example.ipynb  \u001b[0m\u001b[01;34msystem_two_with_an_even_more_complicated_name\u001b[0m/\r\n",
      "info           \u001b[01;34msystem_with_complicated_and_explicit_name\u001b[0m/\r\n"
     ]
    }
   ],
   "source": [
    "ls"
   ]
  },
  {
   "cell_type": "code",
   "execution_count": 24,
   "metadata": {
    "ExecuteTime": {
     "end_time": "2021-03-02T16:37:43.900992Z",
     "start_time": "2021-03-02T16:37:43.898026Z"
    }
   },
   "outputs": [
    {
     "name": "stdout",
     "output_type": "stream",
     "text": [
      "<class 'str'>\n",
      "<class 'str'>\n"
     ]
    }
   ],
   "source": [
    "for x in list(cookbook.get_dirs(path=\"system_with_complicated_and_explicit_name/\", regex=\"^exp\")):\n",
    "    print(type(x))"
   ]
  },
  {
   "cell_type": "code",
   "execution_count": 12,
   "metadata": {
    "ExecuteTime": {
     "end_time": "2021-03-02T16:01:41.675857Z",
     "start_time": "2021-03-02T16:01:41.673604Z"
    }
   },
   "outputs": [
    {
     "name": "stdout",
     "output_type": "stream",
     "text": [
      "Project(alias='example', file=None)\n"
     ]
    }
   ],
   "source": [
    "print(f\"{project!r}\")"
   ]
  },
  {
   "cell_type": "code",
   "execution_count": 11,
   "metadata": {
    "ExecuteTime": {
     "end_time": "2021-03-02T16:01:39.365505Z",
     "start_time": "2021-03-02T16:01:39.363622Z"
    }
   },
   "outputs": [
    {
     "name": "stdout",
     "output_type": "stream",
     "text": [
      "Project\n",
      "    alias:  'example'\n",
      "    file:   None\n"
     ]
    }
   ],
   "source": [
    "print(f\"{project!s}\")"
   ]
  },
  {
   "cell_type": "code",
   "execution_count": 7,
   "metadata": {
    "ExecuteTime": {
     "end_time": "2020-10-21T14:46:15.262369Z",
     "start_time": "2020-10-21T14:46:15.258732Z"
    }
   },
   "outputs": [],
   "source": [
    "project.alias"
   ]
  },
  {
   "cell_type": "code",
   "execution_count": 8,
   "metadata": {
    "ExecuteTime": {
     "end_time": "2021-03-01T15:47:03.976409Z",
     "start_time": "2021-03-01T15:47:03.973928Z"
    }
   },
   "outputs": [
    {
     "data": {
      "text/plain": [
       "PosixPath('.')"
      ]
     },
     "execution_count": 8,
     "metadata": {},
     "output_type": "execute_result"
    }
   ],
   "source": [
    "project.source[\"home\"]"
   ]
  },
  {
   "cell_type": "code",
   "execution_count": null,
   "metadata": {},
   "outputs": [],
   "source": []
  }
 ],
 "metadata": {
  "kernelspec": {
   "display_name": "Python 3",
   "language": "python",
   "name": "python3"
  },
  "language_info": {
   "codemirror_mode": {
    "name": "ipython",
    "version": 3
   },
   "file_extension": ".py",
   "mimetype": "text/x-python",
   "name": "python",
   "nbconvert_exporter": "python",
   "pygments_lexer": "ipython3",
   "version": "3.9.0"
  },
  "toc": {
   "base_numbering": 1,
   "nav_menu": {},
   "number_sections": true,
   "sideBar": true,
   "skip_h1_title": true,
   "title_cell": "Table of Contents",
   "title_sidebar": "Contents",
   "toc_cell": false,
   "toc_position": {},
   "toc_section_display": true,
   "toc_window_display": false
  },
  "varInspector": {
   "cols": {
    "lenName": 16,
    "lenType": 16,
    "lenVar": 40
   },
   "kernels_config": {
    "python": {
     "delete_cmd_postfix": "",
     "delete_cmd_prefix": "del ",
     "library": "var_list.py",
     "varRefreshCmd": "print(var_dic_list())"
    },
    "r": {
     "delete_cmd_postfix": ") ",
     "delete_cmd_prefix": "rm(",
     "library": "var_list.r",
     "varRefreshCmd": "cat(var_dic_list()) "
    }
   },
   "types_to_exclude": [
    "module",
    "function",
    "builtin_function_or_method",
    "instance",
    "_Feature"
   ],
   "window_display": false
  }
 },
 "nbformat": 4,
 "nbformat_minor": 4
}
